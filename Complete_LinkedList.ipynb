{
  "cells": [
    {
      "cell_type": "code",
      "execution_count": null,
      "metadata": {
        "id": "T3qWaMflZfvM"
      },
      "outputs": [],
      "source": [
        "class Node:\n",
        "    def __init__(self,data):\n",
        "        self.data=data\n",
        "        self.next=None\n"
      ]
    },
    {
      "cell_type": "code",
      "execution_count": null,
      "metadata": {
        "colab": {
          "base_uri": "https://localhost:8080/"
        },
        "id": "PYu68mebaF_M",
        "outputId": "16278bf6-339e-49e9-8454-74050b1b57b0"
      },
      "outputs": [
        {
          "output_type": "stream",
          "name": "stdout",
          "text": [
            "\n",
            "Menu:\n",
            "1. Insert Left\n",
            "2. Insert Right\n",
            "3. Delete Left\n",
            "4. Delete Right\n",
            "5. Print List\n",
            "6. Searchin List\n",
            "7. Length of list\n",
            "8. Insert After\n",
            "9. Delete Element\n",
            "10.Reverse List\n",
            "11.Sort List\n",
            "0. Exit\n",
            "Enter your choice: 0\n",
            "Exiting...\n"
          ]
        }
      ],
      "source": [
        "\n",
        "class Linear_Linked_List:\n",
        "    def __init__(self):\n",
        "        self.root=None #root is not created but assigned\n",
        "    def insert_left(self,data):\n",
        "        n=Node(data)\n",
        "        if self.root==None:\n",
        "            self.root=n#assigned as first\n",
        "        else:\n",
        "            n.next=self.root\n",
        "            self.root=n\n",
        "        print(\"inserted\")\n",
        "    def insert_right(self,data):\n",
        "        n=Node(data)\n",
        "        if self.root==None:\n",
        "            self.root=n#assigned as first\n",
        "        else:\n",
        "            t=self.root#1\n",
        "            while t.next!=None:#2\n",
        "                t=t.next\n",
        "            t.next=n\n",
        "        print(\"inserted\")\n",
        "\n",
        "    def delete_left(self):\n",
        "        if self.root==None:\n",
        "            print(\"Empty list\")\n",
        "        else:\n",
        "            t=self.root#1\n",
        "            self.root=self.root.next#2\n",
        "            print(\"Deleted:\",t.data)\n",
        "\n",
        "    def delete_right(self):\n",
        "        if self.root==None:\n",
        "            print(\"Empty list\")\n",
        "        else:\n",
        "            t=self.root#1\n",
        "            t2=self.root#1\n",
        "            while t.next!=None:#2\n",
        "                t2=t\n",
        "                t=t.next\n",
        "            if self.root==t:\n",
        "                self.root=None\n",
        "            else:\n",
        "                t2.next=None#3\n",
        "            print(\"Deleted:\",t.data)\n",
        "    def print_list(self):\n",
        "        if self.root==None:\n",
        "            print(\"Empty list\")\n",
        "        else:\n",
        "            t=self.root\n",
        "            while t!=None:\n",
        "                print(f\"|{t.data}|->\",end=\"\")\n",
        "                t=t.next\n",
        "    def len_list(self):\n",
        "        if self.root==None:\n",
        "            return 0\n",
        "        else:\n",
        "            count=0\n",
        "            t=self.root\n",
        "            while t!=None:\n",
        "                count+=1\n",
        "                t=t.next\n",
        "            return count\n",
        "\n",
        "    def search_list(self,key_element):\n",
        "        t=self.root#t ref\n",
        "        while t!=None:#till t not None\n",
        "            if t.data==key_element:\n",
        "                return True#if match stop return True\n",
        "            t=t.next\n",
        "        return False#return False\n",
        "\n",
        "    def insert_after(self,ref,new_element):\n",
        "        t=self.root#t ref\n",
        "        while t!=None:#till t not None\n",
        "            if t.data==ref:#if found 2\n",
        "                n=Node(new_element)\n",
        "                n.next=t.next#3\n",
        "                t.next=n#4\n",
        "                print(\"inserted..\")\n",
        "                break\n",
        "            t=t.next\n",
        "        if t==None:\n",
        "            print(ref,\"not found in list\")\n",
        "    def delete_element(self,element):\n",
        "        t=self.root#t ref\n",
        "        t2=self.root\n",
        "        while t!=None:#till t not None\n",
        "            if t.data==element:\n",
        "                if t==self.root:#case 1 :left most\n",
        "                    self.root=self.root.next\n",
        "                elif t.next==None:#case 2:right most\n",
        "                    t2.next=None\n",
        "                else:#case 3 in-between\n",
        "                    t2.next=t.next\n",
        "                print(\"Deleted:\",t.data)\n",
        "                break\n",
        "            t2=t\n",
        "            t=t.next\n",
        "        if t==None:\n",
        "            print(element,\"not found in list\")\n",
        "    def reverse_list(self):\n",
        "        if self.root==None:#check list there or not\n",
        "            print(\"Empty list\")\n",
        "        else:#list there\n",
        "            #read all elements and append them to list\n",
        "            t=self.root\n",
        "            temp=[]#list\n",
        "            while t!=None:\n",
        "                temp.append(t.data)\n",
        "                t=t.next\n",
        "            #restart and over write 1st node with last entry of list\n",
        "            t=self.root\n",
        "            while t!=None:\n",
        "                t.data=temp.pop()\n",
        "                t=t.next\n",
        "            print(\"Reversed\")\n",
        "    def sort_list(self):\n",
        "        if self.root==None:#check list there or not\n",
        "            print(\"Empty list\")\n",
        "        else:#list there\n",
        "            #read all elements and append them to list\n",
        "            t=self.root\n",
        "            temp=[]#list\n",
        "            while t!=None:\n",
        "                temp.append(t.data)\n",
        "                t=t.next\n",
        "            #sort list\n",
        "            temp.sort(reverse=True)\n",
        "            #overwrite on linked list\n",
        "            t=self.root\n",
        "            while t!=None:\n",
        "                t.data=temp.pop()\n",
        "                t=t.next\n",
        "            print(\"Reversed\")\n",
        "    def get_root(self):\n",
        "        return self.root\n",
        "    def divide_list(self):\n",
        "        even=Linear_Linked_List()\n",
        "        odd=Linear_Linked_List()\n",
        "        t=self.root\n",
        "        while t!=None:\n",
        "            if t.data%2==0:\n",
        "                even.insert_right(t.data)\n",
        "            else:\n",
        "                odd.insert_right(t.data)\n",
        "            t=t.next\n",
        "        return even,odd\n",
        "\n",
        "ll = Linear_Linked_List()\n",
        "while True:\n",
        "    print(\"\\nMenu:\")\n",
        "    print(\"1. Insert Left\")\n",
        "    print(\"2. Insert Right\")\n",
        "    print(\"3. Delete Left\")\n",
        "    print(\"4. Delete Right\")\n",
        "    print(\"5. Print List\")\n",
        "    print(\"6. Searchin List\")\n",
        "    print(\"7. Length of list\")\n",
        "    print(\"8. Insert After\")\n",
        "    print(\"9. Delete Element\")\n",
        "    print(\"10.Reverse List\")\n",
        "    print(\"11.Sort List\")\n",
        "    print(\"0. Exit\")\n",
        "    choice = int(input(\"Enter your choice: \"))\n",
        "\n",
        "    if choice == 1:\n",
        "        data = int(input(\"Enter data to insert at left: \"))\n",
        "        ll.insert_left(data)\n",
        "    elif choice == 2:\n",
        "        data = int(input(\"Enter data to insert at right: \"))\n",
        "        ll.insert_right(data)\n",
        "    elif choice == 3:\n",
        "        ll.delete_left()\n",
        "    elif choice == 4:\n",
        "        ll.delete_right()\n",
        "    elif choice == 5:\n",
        "        ll.print_list()\n",
        "    elif choice == 6:\n",
        "        print(\"Found:\",ll.search_list(int(input(\"Enter element to search:\"))))\n",
        "    elif choice == 7:\n",
        "        print(\"Length is:\",ll.len_list())\n",
        "    elif choice == 8:\n",
        "        ll.insert_after(int(input(\"Enter ref:\")),int(input(\"Enter new element:\")))\n",
        "    elif choice == 9:\n",
        "       ll.delete_element(int(input(\"Enter new element:\")))\n",
        "    elif choice == 10:\n",
        "       ll.reverse_list()\n",
        "    elif choice == 11:\n",
        "       ll.sort_list()\n",
        "    elif choice == 0:\n",
        "        print(\"Exiting...\")\n",
        "        break\n",
        "    else:\n",
        "        print(\"Invalid choice, please try again.\")\n"
      ]
    },
    {
      "cell_type": "code",
      "execution_count": null,
      "metadata": {
        "id": "KKZD4C36gnnq",
        "colab": {
          "base_uri": "https://localhost:8080/",
          "height": 106
        },
        "outputId": "bfc56bf2-4c6f-4c1c-b17b-de1acee776e2"
      },
      "outputs": [
        {
          "output_type": "error",
          "ename": "SyntaxError",
          "evalue": "invalid syntax (<ipython-input-24-f1c95e3dceb1>, line 6)",
          "traceback": [
            "\u001b[0;36m  File \u001b[0;32m\"<ipython-input-24-f1c95e3dceb1>\"\u001b[0;36m, line \u001b[0;32m6\u001b[0m\n\u001b[0;31m    print_list(root):#prints given list\u001b[0m\n\u001b[0m                    ^\u001b[0m\n\u001b[0;31mSyntaxError\u001b[0m\u001b[0;31m:\u001b[0m invalid syntax\n"
          ]
        }
      ],
      "source": [
        "#create code to accept 2 linked lists and return merged sorted linked list\n",
        "#both linked list are sorted\n",
        "#function should accept linked list and return ref to sorted list\n",
        "root3=Merge_list(root1,root2)\n",
        "\n",
        "print_list(root):#prints given list\n"
      ]
    },
    {
      "cell_type": "code",
      "source": [
        "def Merge_list(list1,list2):\n",
        "    l3=Linear_Linked_List()\n",
        "    root1=list1.get_root()\n",
        "    while root1!=None:\n",
        "        l3.insert_right(root1.data)\n",
        "        root1=root1.next\n",
        "    root2=list2.get_root()\n",
        "    while root2!=None:\n",
        "        l3.insert_right(root2.data)\n",
        "        root2=root2.next\n",
        "    l3.sort_list()\n",
        "    return l3\n",
        "\n"
      ],
      "metadata": {
        "id": "77_3V3W-Ob9-"
      },
      "execution_count": null,
      "outputs": []
    },
    {
      "cell_type": "code",
      "source": [
        "def Merge_list_bubble_sort(list1,list2):\n",
        "    l3=Linear_Linked_List()\n",
        "    root1=list1.get_root()\n",
        "    root2=list2.get_root()\n",
        "    while root1!=None and root2!=None:\n",
        "        if root1.data<root2.data:\n",
        "            l3.insert_right(root1.data)\n",
        "            root1=root1.next\n",
        "        else:\n",
        "            l3.insert_right(root2.data)\n",
        "            root2=root2.next\n",
        "    while root1!=None:\n",
        "        l3.insert_right(root1.data)\n",
        "        root1=root1.next\n",
        "    while root2!=None:\n",
        "        l3.insert_right(root2.data)\n",
        "        root2=root2.next\n",
        "    return l3\n"
      ],
      "metadata": {
        "id": "N6j20e1vPhOf"
      },
      "execution_count": null,
      "outputs": []
    },
    {
      "cell_type": "code",
      "source": [],
      "metadata": {
        "id": "cTAALQi6Sn1F"
      },
      "execution_count": null,
      "outputs": []
    },
    {
      "cell_type": "code",
      "source": [
        "r1=Linear_Linked_List()\n",
        "r1.insert_right(10)\n",
        "r1.insert_right(30)\n",
        "r1.insert_right(50)\n",
        "r1.insert_right(70)\n",
        "r1.print_list()\n",
        "r2=Linear_Linked_List()\n",
        "r2.insert_right(5)\n",
        "r2.insert_right(15)\n",
        "r2.insert_right(20)\n",
        "r2.print_list()\n",
        "#r3=Merge_list(r1,r2)\n",
        "r3=Merge_list_bubble_sort(r1,r2)\n",
        "r3.print_list()"
      ],
      "metadata": {
        "colab": {
          "base_uri": "https://localhost:8080/"
        },
        "id": "i7ZYyIbdKWCB",
        "outputId": "ec90627b-48f9-452d-db7e-b7791e470713"
      },
      "execution_count": null,
      "outputs": [
        {
          "output_type": "stream",
          "name": "stdout",
          "text": [
            "inserted\n",
            "inserted\n",
            "inserted\n",
            "inserted\n",
            "|10|->|30|->|50|->|70|->inserted\n",
            "inserted\n",
            "inserted\n",
            "|5|->|15|->|20|->inserted\n",
            "inserted\n",
            "inserted\n",
            "inserted\n",
            "inserted\n",
            "inserted\n",
            "inserted\n",
            "|5|->|10|->|15|->|20|->|30|->|50|->|70|->"
          ]
        }
      ]
    },
    {
      "cell_type": "code",
      "source": [
        "r1=Linear_Linked_List()\n",
        "r1.insert_right(5)\n",
        "r1.insert_right(10)\n",
        "r1.insert_right(7)\n",
        "r1.insert_right(20)\n",
        "r1.insert_right(51)\n",
        "r1.insert_right(101)\n",
        "r1.insert_right(70)\n",
        "r1.insert_right(200)\n",
        "r_even,r_odd=r1.divide_list()\n",
        "print(\"\\nEven\")\n",
        "r_even.print_list()\n",
        "print(\"\\nodd\")\n",
        "r_odd.print_list()"
      ],
      "metadata": {
        "colab": {
          "base_uri": "https://localhost:8080/"
        },
        "id": "i4socpGkTLK7",
        "outputId": "62ba2de3-e220-4440-e1d1-a76f60339fd1"
      },
      "execution_count": null,
      "outputs": [
        {
          "output_type": "stream",
          "name": "stdout",
          "text": [
            "inserted\n",
            "inserted\n",
            "inserted\n",
            "inserted\n",
            "inserted\n",
            "inserted\n",
            "inserted\n",
            "inserted\n",
            "inserted\n",
            "inserted\n",
            "inserted\n",
            "inserted\n",
            "inserted\n",
            "inserted\n",
            "inserted\n",
            "inserted\n",
            "\n",
            "Even\n",
            "|10|->|20|->|70|->|200|->\n",
            "odd\n",
            "|5|->|7|->|51|->|101|->"
          ]
        }
      ]
    },
    {
      "cell_type": "code",
      "source": [],
      "metadata": {
        "id": "wWhKRWTLT8es"
      },
      "execution_count": null,
      "outputs": []
    }
  ],
  "metadata": {
    "colab": {
      "provenance": []
    },
    "kernelspec": {
      "display_name": "Python 3",
      "name": "python3"
    },
    "language_info": {
      "name": "python"
    }
  },
  "nbformat": 4,
  "nbformat_minor": 0
}