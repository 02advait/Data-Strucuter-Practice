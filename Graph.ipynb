{
 "cells": [
  {
   "cell_type": "code",
   "execution_count": null,
   "id": "a0def5bd-196f-4cf6-82bf-7c189d529732",
   "metadata": {},
   "outputs": [],
   "source": [
    "#graph\n",
    "class Graph:\n",
    "    def __init__(self,nodes):\n",
    "        self.g=[]\n",
    "        self.nodes=nodes\n",
    "        for i in range(nodes):\n",
    "            self.g.append([])\n",
    "    def set_matrix(self):\n",
    "        for source in range(self.nodes):\n",
    "            for dest in range(self.nodes):\n",
    "                self.g[source].append(int(input(f\"Enter element at {source},{dest}:\")))\n",
    "\n",
    "    def Display_graph(self):\n",
    "         for source in range(self.nodes):\n",
    "            for dest in range(self.nodes):\n",
    "                print(self.g[source][dest],end=\" \")\n",
    "            print(\"\")\n",
    "\n",
    "\n"
   ]
  },
  {
   "cell_type": "code",
   "execution_count": null,
   "id": "e8cc2638-cd98-4b63-a93d-2760079f0c70",
   "metadata": {},
   "outputs": [],
   "source": [
    "g=Graph(3)\n",
    "g.set_matrix()\n",
    "g.Display_graph()"
   ]
  },
  {
   "cell_type": "code",
   "execution_count": null,
   "id": "597fd113-adb8-4ad9-9753-f224ccd3d2b6",
   "metadata": {},
   "outputs": [],
   "source": [
    "g=Graph(5)\n",
    "g.set_matrix()\n",
    "g.Display_graph()"
   ]
  },
  {
   "cell_type": "code",
   "execution_count": null,
   "id": "f4404c3e-e339-4a00-a921-272c75bba5c4",
   "metadata": {},
   "outputs": [],
   "source": []
  }
 ],
 "metadata": {
  "kernelspec": {
   "display_name": "Python [conda env:base] *",
   "language": "python",
   "name": "conda-base-py"
  },
  "language_info": {
   "codemirror_mode": {
    "name": "ipython",
    "version": 3
   },
   "file_extension": ".py",
   "mimetype": "text/x-python",
   "name": "python",
   "nbconvert_exporter": "python",
   "pygments_lexer": "ipython3",
   "version": "3.12.7"
  }
 },
 "nbformat": 4,
 "nbformat_minor": 5
}
