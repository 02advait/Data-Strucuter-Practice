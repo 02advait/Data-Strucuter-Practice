{
  "nbformat": 4,
  "nbformat_minor": 0,
  "metadata": {
    "colab": {
      "provenance": []
    },
    "kernelspec": {
      "name": "python3",
      "display_name": "Python 3"
    },
    "language_info": {
      "name": "python"
    }
  },
  "cells": [
    {
      "cell_type": "code",
      "execution_count": null,
      "metadata": {
        "id": "oyXHVIXZu31O"
      },
      "outputs": [],
      "source": [
        "#slowest\n",
        "#only search that can work on unsorted data\n",
        "def sequential_serach(a_list,key):#return i if found else -1\n",
        "\tfor i in range(len(a_list)):\n",
        "\t\tif a_list[i]==key:\n",
        "\t\t\treturn i\n",
        "\treturn -1"
      ]
    },
    {
      "cell_type": "code",
      "source": [
        "#slowest\n",
        "#only search that can work on unsorted data\n",
        "def sequential_serach(a_list,key):#return i if found else -1\n",
        "    if key>min(a_list) and key<=max(a_list):\n",
        "        for i in range(len(a_list)):\n",
        "            print(\"pass\")\n",
        "            if a_list[i]==key:\n",
        "                return i\n",
        "    return -1"
      ],
      "metadata": {
        "id": "-YOHoP0kwbB1"
      },
      "execution_count": null,
      "outputs": []
    },
    {
      "cell_type": "code",
      "source": [
        "response=sequential_serach([22,11,55,44,77,88,99,66],12)\n",
        "if response==-1:\n",
        "    print(\"Not found\")\n",
        "else:\n",
        "    print(\"Found at\",response)"
      ],
      "metadata": {
        "colab": {
          "base_uri": "https://localhost:8080/"
        },
        "id": "YEdJyncgu5UT",
        "outputId": "ab3caab7-9032-4482-e18d-f79934f87ef6"
      },
      "execution_count": null,
      "outputs": [
        {
          "output_type": "stream",
          "name": "stdout",
          "text": [
            "pass\n",
            "pass\n",
            "pass\n",
            "pass\n",
            "pass\n",
            "pass\n",
            "pass\n",
            "pass\n",
            "Not found\n"
          ]
        }
      ]
    },
    {
      "cell_type": "code",
      "source": [
        "def binary_search(a_list,start,end,key):#return i if found else -1\n",
        "    if start<=end:#size 1\n",
        "        mid=(start+end)//2\n",
        "        if key==a_list[mid]:\n",
        "            return mid\n",
        "        else:\n",
        "            if key<a_list[mid]:#go to left\n",
        "                return binary_search(a_list,start,mid-1,key)\n",
        "            else:\n",
        "                return binary_search(a_list,mid+1,end,key)\n",
        "        return -1\n",
        "\n"
      ],
      "metadata": {
        "id": "qslzIpws7-hy"
      },
      "execution_count": null,
      "outputs": []
    },
    {
      "cell_type": "code",
      "source": [
        "a_list=[11,22,33,44,55,66,77,88,99,111]\n",
        "response=binary_search(a_list,0,len(a_list)-1,101)\n",
        "if response==-1:\n",
        "    print(\"Not found\")\n",
        "else:\n",
        "    print(\"Found at\",response)"
      ],
      "metadata": {
        "colab": {
          "base_uri": "https://localhost:8080/"
        },
        "id": "RvubxYld8ya9",
        "outputId": "17827f97-c855-4bce-aefe-f7462a4cfedc"
      },
      "execution_count": null,
      "outputs": [
        {
          "output_type": "stream",
          "name": "stdout",
          "text": [
            "Found at None\n"
          ]
        }
      ]
    },
    {
      "cell_type": "code",
      "source": [
        "#bubble_sort:\n",
        "#Logic: neighbours are compared and heavier goes up\n",
        "#        this is called bubble process\n",
        "def bubble_sort(a):\n",
        "    for i in range(len(a)):#gives passes\n",
        "        print(\"pass\")\n",
        "        for j in range(len(a)-1):#compares:sort\n",
        "            if a[j]>a[j+1]:\n",
        "                a[j],a[j+1]=a[j+1],a[j]\n"
      ],
      "metadata": {
        "id": "ViBm4PFY_myC"
      },
      "execution_count": null,
      "outputs": []
    },
    {
      "cell_type": "code",
      "source": [
        "def bubble_sort2(a):\n",
        "    for i in range(len(a)):#gives passes\n",
        "        done=False\n",
        "        print(\"Pass\")\n",
        "        for j in range(len(a)-1-i):#compares:sort\n",
        "            if a[j]>a[j+1]:\n",
        "                done=True\n",
        "                a[j],a[j+1]=a[j+1],a[j]\n",
        "        if done==False:#sorted\n",
        "            break"
      ],
      "metadata": {
        "id": "LUmMa2E0Bicm"
      },
      "execution_count": null,
      "outputs": []
    },
    {
      "cell_type": "code",
      "source": [
        "#data=[1,4,23,27,13,11,28]\n",
        "data=[11,22,33,44,55]\n",
        "print(\"Data is:\",data)\n",
        "bubble_sort2(data)\n",
        "print(\"Data is:\",data)"
      ],
      "metadata": {
        "colab": {
          "base_uri": "https://localhost:8080/"
        },
        "id": "VjMjhJu3AkBj",
        "outputId": "7181c06a-8a07-465f-f461-0bd13da5d863"
      },
      "execution_count": null,
      "outputs": [
        {
          "output_type": "stream",
          "name": "stdout",
          "text": [
            "Data is: [11, 22, 33, 44, 55]\n",
            "Pass\n",
            "Data is: [11, 22, 33, 44, 55]\n"
          ]
        }
      ]
    },
    {
      "cell_type": "code",
      "source": [
        "def Selection_Sort(a):\n",
        "    for i in range(len(a)):#gives passes\n",
        "       min=a[i]\n",
        "       pos=i\n",
        "       for j in range(i+1,len(a)):#compares:sort\n",
        "            if a[j]<min:\n",
        "                min,pos=a[j],j\n",
        "       a[i],a[pos]=a[pos],a[i]"
      ],
      "metadata": {
        "id": "6Mh_teh9C0ml"
      },
      "execution_count": null,
      "outputs": []
    },
    {
      "cell_type": "code",
      "source": [
        "def Insertion_Sort(a):\n",
        "    for i in range(len(a)-1):#gives passes\n",
        "       new_element=a[i+1]\n",
        "       j=i+1\n",
        "       while j>0 and a[j-1]>new_element:\n",
        "            a[j]=a[j-1]\n",
        "            j=j-1\n",
        "       a[j]=new_element\n"
      ],
      "metadata": {
        "id": "tPT0hOkqIHnz"
      },
      "execution_count": null,
      "outputs": []
    },
    {
      "cell_type": "code",
      "source": [
        "def Quick_sort(a,start,end):\n",
        "\ti=start\n",
        "\tj=end\n",
        "\tpivot=start\n",
        "\twhile i<j:\n",
        "\t\twhile a[i]<a[pivot]:\n",
        "\t\t\ti=i+1\n",
        "\t\twhile a[j]>a[pivot]:\n",
        "\t\t\tj=j-1\n",
        "\t\tif i<=j:\n",
        "\t\t\ta[i],a[j]=a[j],a[i]\n",
        "\tif i<end:\n",
        "\t\tQuick_sort(a,i+1,end)\n",
        "\tif j>start:\n",
        "\t\tQuick_sort(a,start,j-1)"
      ],
      "metadata": {
        "id": "llaqlthfLxYg"
      },
      "execution_count": null,
      "outputs": []
    },
    {
      "cell_type": "code",
      "source": [
        "def Merger(a,start,mid,end):\n",
        "\ti=start\n",
        "\tj=mid+1\n",
        "\ttemp=[]\n",
        "\twhile i<=mid and j<=end:\n",
        "\t\tif a[i]<a[j]:\n",
        "\t\t\ttemp.append(a[i])\n",
        "\t\t\ti+=1\n",
        "\t\telse:\n",
        "\t\t\ttemp.append(a[j])\n",
        "\t\t\tj+=1\n",
        "\twhile i<=mid:\n",
        "\t\ttemp.append(a[i])\n",
        "\t\ti+=1\n",
        "\twhile j<=end:\n",
        "\t\ttemp.append(a[j])\n",
        "\t\tj+=1\n",
        "\ta[start:end+1]=temp\n",
        "    #copy only area that is sorted (temp) which is from start to end\n",
        "\n",
        "def Merge_sort(a,start,end):\n",
        "\tif start!=end:#size 1\n",
        "\t\tmid=(start+end)//2\n",
        "\t\tMerge_sort(a,start,mid)\n",
        "\t\tMerge_sort(a,mid+1,end)\n",
        "\t\tMerger(a,start,mid,end)\n",
        "\n",
        "\n"
      ],
      "metadata": {
        "id": "1E_8SRl_lfh0"
      },
      "execution_count": null,
      "outputs": []
    },
    {
      "cell_type": "markdown",
      "source": [],
      "metadata": {
        "id": "-v_gsMrh7-WD"
      }
    },
    {
      "cell_type": "code",
      "source": [
        "data=[1,4,23,27,13,11,28]\n",
        "print(\"Data is:\",data)\n",
        "Merge_sort(data,0,len(data)-1)\n",
        "print(\"Data is:\",data)"
      ],
      "metadata": {
        "colab": {
          "base_uri": "https://localhost:8080/"
        },
        "id": "YwAAApFxGmbI",
        "outputId": "8c40e130-3323-4c08-fd9a-655091046db8"
      },
      "execution_count": null,
      "outputs": [
        {
          "output_type": "stream",
          "name": "stdout",
          "text": [
            "Data is: [1, 4, 23, 27, 13, 11, 28]\n",
            "Data is: [1, 4, 11, 13, 23, 27, 28]\n"
          ]
        }
      ]
    },
    {
      "cell_type": "code",
      "source": [
        "# Graph Class\n",
        "class Graph:\n",
        "    def __init__(self, nodes):\n",
        "        self.g = []\n",
        "        self.nodes = nodes\n",
        "        for i in range(nodes):\n",
        "            self.g.append([])\n",
        "\n",
        "    def set_matrix(self):\n",
        "        for source in range(self.nodes):\n",
        "            for dest in range(self.nodes):\n",
        "                self.g[source].append(int(input(f\"Enter element at {source},{dest}: \")))\n",
        "\n",
        "    def display_graph(self):\n",
        "        for source in range(self.nodes):\n",
        "            for dest in range(self.nodes):\n",
        "                print(self.g[source][dest], end=\" \")\n",
        "            print(\"\")\n",
        "\n",
        "    def bfs(self, start):\n",
        "        visited = [False] * self.nodes\n",
        "        queue = [start]\n",
        "        visited[start] = True\n",
        "\n",
        "        while queue:\n",
        "            node = queue.pop(0)\n",
        "            print(node, end=\" \")\n",
        "\n",
        "            for i in range(self.nodes):\n",
        "                if self.g[node][i] == 1 and not visited[i]:\n",
        "                    queue.append(i)\n",
        "                    visited[i] = True\n",
        "        print()\n",
        "\n",
        "    def dfs(self, start, visited=None):\n",
        "        if visited is None:\n",
        "            visited = [False] * self.nodes\n",
        "\n",
        "        visited[start] = True\n",
        "        print(start, end=\" \")\n",
        "\n",
        "        for i in range(self.nodes):\n",
        "            if self.g[start][i] == 1 and not visited[i]:\n",
        "                self.dfs(i, visited)\n",
        "\n",
        "# Example Usage\n",
        "graph = Graph(4)  # Example with 4 nodes\n",
        "graph.set_matrix()\n",
        "graph.display_graph()\n",
        "\n",
        "print(\"BFS Traversal:\")\n",
        "graph.bfs(0)  # Starting BFS from node 0\n",
        "\n",
        "print(\"DFS Traversal:\")\n",
        "graph.dfs(0)  # Starting DFS from node 0\n"
      ],
      "metadata": {
        "id": "vQJVfnngHiNG"
      },
      "execution_count": null,
      "outputs": []
    }
  ]
}