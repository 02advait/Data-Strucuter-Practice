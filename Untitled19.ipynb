{
  "nbformat": 4,
  "nbformat_minor": 0,
  "metadata": {
    "colab": {
      "provenance": []
    },
    "kernelspec": {
      "name": "python3",
      "display_name": "Python 3"
    },
    "language_info": {
      "name": "python"
    }
  },
  "cells": [
    {
      "cell_type": "code",
      "execution_count": 3,
      "metadata": {
        "id": "dUtkY-dpNeBv"
      },
      "outputs": [],
      "source": [
        "class Stack:\n",
        "    def create_stack(self):\n",
        "        self.s=[]\n",
        "    def push(self,e):\n",
        "        self.s.append(e)\n",
        "        print(\"pushed\")\n",
        "    def pop(self):#remove and return\n",
        "        return self.s.pop()\n",
        "        #by default removes last\n",
        "    def peek(self):#only return\n",
        "        return self.s[-1]\n",
        "        #by default removes last\n",
        "    def is_empty(self):#true if len 0 else false\n",
        "        return len(self.s)==0\n",
        "    def print_stack(self):\n",
        "        print(\"Stack has:\",self.s[::-1])\n"
      ]
    },
    {
      "cell_type": "code",
      "source": [
        "obj = Stack()\n",
        "obj.create_stack()\n",
        "\n",
        "while True:\n",
        "  print(\"================== \")\n",
        "  print(\"======STACK======= \")\n",
        "  print(\"    1 . Push       \")\n",
        "  print(\"    2 . Pop        \")\n",
        "  print(\"    3 . Peek       \")\n",
        "  print(\"    4 . Print Stack\")\n",
        "  print(\"    5 . Status     \")\n",
        "  print(\"    0 . Exit       \")\n",
        "  choice = int(input(\"Enter your choice--> \"))\n",
        "  if choice == 1:\n",
        "    obj.push(int(input(\"Enter Element --> \")))\n",
        "  elif choice == 2:\n",
        "    if obj.is_empty() != True:\n",
        "      print(\"Popped\",obj.pop())\n",
        "    else :\n",
        "      print(\"Empty Stack\")\n",
        "  elif choice == 3:\n",
        "    if obj.is_empty() != True:\n",
        "      print(\"Peek \",obj.peek())\n",
        "    else:\n",
        "      print(\"Empty Stack\")\n",
        "  elif choice == 4:\n",
        "    if obj.is_empty() != True:\n",
        "      print(obj.print_stack())\n",
        "    else :\n",
        "      print(\"Empty Stack\")\n",
        "  elif choice == 5:\n",
        "    if obj.is_empty != 0:\n",
        "      print(\"Remaining Stack \", obj.print_stack())\n",
        "    else:\n",
        "      print(\"Stack is Empty\")\n",
        "  elif choice == 0:\n",
        "    break\n",
        "  else:\n",
        "    print(\"Invalid Choice\")"
      ],
      "metadata": {
        "id": "AkdowO1ONpRi"
      },
      "execution_count": null,
      "outputs": []
    },
    {
      "cell_type": "code",
      "source": [
        "class Stack:\n",
        "    def create_stack(self):\n",
        "        self.s=[]\n",
        "    def push(self,e):\n",
        "        self.s.append(e)\n",
        "        print(\"pushed\")\n",
        "    def pop(self):#remove and return\n",
        "        return self.s.pop()\n",
        "        #by default removes last\n",
        "    def peek(self):#only return\n",
        "        return self.s[-1]\n",
        "        #by default removes last\n",
        "    def is_empty(self):#true if len 0 else false\n",
        "        return len(self.s)==0\n",
        "    def print_stack(self):\n",
        "       for item in self.s[::-1]:\n",
        "        print(item)\n",
        "\n"
      ],
      "metadata": {
        "id": "yCa3u241fmIY"
      },
      "execution_count": 6,
      "outputs": []
    },
    {
      "cell_type": "code",
      "source": [
        "class Stack:\n",
        "    def create_stack(self):\n",
        "        self.s=[]\n",
        "    def push(self,e):\n",
        "        self.s.append(e)\n",
        "        print(\"pushed\")\n",
        "    def pop(self):#remove and return\n",
        "        return self.s.pop()\n",
        "        #by default removes last\n",
        "    def peek(self):#only return\n",
        "        return self.s[-1]\n",
        "        #by default removes last\n",
        "    def is_empty(self):#true if len 0 else false\n",
        "        return len(self.s)==0\n",
        "    def print_stack(self):\n",
        "       for item in self.s[::-1]:\n",
        "        print(item)\n",
        "\n",
        "#read line from user\n",
        "line=input(\"Enter line to reverse:\")\n",
        "obj=Stack()\n",
        "obj.create_stack()\n",
        "#rev_str=obj.reverse_line(line)\n",
        "#passing line as paramenter\n",
        "#returning reverse line\n",
        "\n",
        "\n",
        "def reverse_line(line):\n",
        "  word_list=line.split()\n",
        "  for line in word_list:\n",
        "    obj.push(line)\n",
        "  rev_str=\"\"\n",
        "  while obj.is_empty()!=True:\n",
        "    rev_str+=obj.pop()+\" \"\n",
        "  print(\"Reverse line is:\",rev_str)\n",
        "\n",
        "print(reverse_line(line))"
      ],
      "metadata": {
        "id": "eVWg464gfnin"
      },
      "execution_count": null,
      "outputs": []
    },
    {
      "cell_type": "code",
      "source": [
        "class Queue:\n",
        "    def create_queue(self):\n",
        "        self.q=[]\n",
        "    def enqueue(self,e):\n",
        "        self.q.append(e)\n",
        "        print(\"Enqueue\")\n",
        "    def dequeue(self):#remove and return\n",
        "        return self.q.remove(0)\n",
        "        #by default removes last\n",
        "    def is_empty(self):#true if len 0 else false\n",
        "        return len(self.q)==0\n",
        "    def print_stack(self):\n",
        "       for item in self.q:\n",
        "        print(item)"
      ],
      "metadata": {
        "id": "0C5dp0MDknqI"
      },
      "execution_count": 5,
      "outputs": []
    },
    {
      "cell_type": "code",
      "source": [
        "class Priority_Queue:\n",
        "    def create_queue(self):\n",
        "        self.q=[]\n",
        "    def enqueue(self,e):\n",
        "        self.q.append(e)\n",
        "        self.q.sort(reverse=True)\n",
        "        print(\"Enqueued\")\n",
        "    def dequeue(self):#remove and return\n",
        "        return self.q.pop(0)\n",
        "    def is_empty(self):#true if len 0 else false\n",
        "        return len(self.q)==0\n",
        "    def print_queue(self):\n",
        "       for item in self.q:\n",
        "        print(item,end=\" - \")\n",
        "obj=Priority_Queue()\n",
        "obj.create_queue()\n",
        "while True:\n",
        "    print(\"\\nPriority Queue Menu\")\n",
        "    print(\"------------\")\n",
        "    print(\"1.Enqueue\")\n",
        "    print(\"2.Dequeue\")\n",
        "    print(\"3.Print\")\n",
        "    print(\"0.Exit\")\n",
        "    ch=int(input(\"Enter choice:\"))\n",
        "    if ch==1:\n",
        "        obj.enqueue(int(input(\"Enter element:\")))\n",
        "    elif ch==2:\n",
        "        if obj.is_empty()!=True:\n",
        "            print(\"Dequeued:\",obj.dequeue())\n",
        "        else:\n",
        "            print(\"Empty queue\")\n",
        "    elif ch==3:\n",
        "        if obj.is_empty()!=True:\n",
        "            obj.print_queue()\n",
        "        else:\n",
        "            print(\"Empty queue\")\n",
        "    elif ch==0:\n",
        "        print(\"Exiting....\")\n",
        "        break\n",
        "    else:\n",
        "        print(\"Wrong input\")\n"
      ],
      "metadata": {
        "id": "ZTuArsSgHmDF"
      },
      "execution_count": null,
      "outputs": []
    },
    {
      "cell_type": "code",
      "source": [],
      "metadata": {
        "id": "1yu6CK7qWOzG"
      },
      "execution_count": null,
      "outputs": []
    },
    {
      "cell_type": "code",
      "source": [
        "def make_dict():\n",
        "  complaints={}\n",
        "  for i in range(1,11):\n",
        "      complaints[i]=[]\n",
        "  print(complaints)"
      ],
      "metadata": {
        "id": "SvejUTuDI0yF"
      },
      "execution_count": null,
      "outputs": []
    },
    {
      "cell_type": "code",
      "source": [
        "uid=202500"
      ],
      "metadata": {
        "id": "W_4iZgIBWJVX"
      },
      "execution_count": null,
      "outputs": []
    },
    {
      "cell_type": "code",
      "source": [
        "def add_complains():\n",
        "  uid+=1\n",
        "  uid_current=uid\n",
        "  p=int(input(\"Enter complaint priority:\"))\n",
        "  c=input(\"Enter complaint:\")\n",
        "  complaints[p].append([uid_current,c])\n",
        "  print(\"Your complaint number is registred with:\",uid_current)\n",
        "  print(complaints)"
      ],
      "metadata": {
        "id": "CbLl47zmWJSz"
      },
      "execution_count": null,
      "outputs": []
    },
    {
      "cell_type": "code",
      "source": [
        "def resolve_complain():\n",
        "  #when asked to remove remove from 10 to 1\n",
        "  for priority in sorted(complaints.keys(),reverse=True):\n",
        "      if(len(complaints[priority])):\n",
        "          print(priority,\":\",complaints[priority])\n",
        "          print(\"Resolved:\",complaints[priority].pop(0))\n",
        "          break\n"
      ],
      "metadata": {
        "id": "-9BBhVXoWJPY"
      },
      "execution_count": null,
      "outputs": []
    },
    {
      "cell_type": "code",
      "source": [],
      "metadata": {
        "id": "im19t2KmWJLw"
      },
      "execution_count": null,
      "outputs": []
    }
  ]
}